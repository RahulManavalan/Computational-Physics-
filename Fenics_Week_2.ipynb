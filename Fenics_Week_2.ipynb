{
  "nbformat": 4,
  "nbformat_minor": 0,
  "metadata": {
    "colab": {
      "name": "Fenics_Week_2.ipynb",
      "provenance": [],
      "authorship_tag": "ABX9TyMn5Nmk+/xtWJ92FjJbjSe/",
      "include_colab_link": true
    },
    "kernelspec": {
      "name": "python3",
      "display_name": "Python 3"
    }
  },
  "cells": [
    {
      "cell_type": "markdown",
      "metadata": {
        "id": "view-in-github",
        "colab_type": "text"
      },
      "source": [
        "<a href=\"https://colab.research.google.com/github/RahulManavalan/Computational-Physics-/blob/master/Fenics_Week_2.ipynb\" target=\"_parent\"><img src=\"https://colab.research.google.com/assets/colab-badge.svg\" alt=\"Open In Colab\"/></a>"
      ]
    },
    {
      "cell_type": "code",
      "metadata": {
        "id": "pMCYlC9wqnhE",
        "colab_type": "code",
        "colab": {}
      },
      "source": [
        "from google.colab import files\n",
        "try:\n",
        "    from dolfin import *; from mshr import *\n",
        "except ImportError as e:\n",
        "    !apt-get install -y -qq software-properties-common python-software-properties module-init-tools\n",
        "    !add-apt-repository -y ppa:fenics-packages/fenics\n",
        "    !apt-get update -qq\n",
        "    !sed -e 's:artful:bionic:' /etc/apt/sources.list.d/fenics-packages-ubuntu-fenics-artful.list > temp\n",
        "    !mv temp /etc/apt/sources.list.d/fenics-packages-ubuntu-fenics-artful.list\n",
        "    !sed -e 's:artful:bionic:' /etc/apt/sources.list > temp\n",
        "    !mv temp /etc/apt/sources.list\n",
        "    !apt-get update -qq\n",
        "    !apt install -y --no-install-recommends fenics    \n",
        "    from dolfin import *; from mshr import *\n",
        "    \n",
        "import matplotlib.pyplot as plt\n",
        "from IPython.display import clear_output, display, update_display\n",
        "import time\n",
        "import dolfin.common.plotting as fenicsplot \n",
        "\n",
        "def plot_compact(u, t, stepcounter, QQ, pl, ax, soltit = \"Velocity\"): # Compact plot utility function\n",
        "  if stepcounter == 0:\n",
        "    pl, ax = plt.subplots(); display(pl); clear_output(); # Plotting setup\n",
        "  if stepcounter % 5 == 0:\n",
        "    #u.set_allow_extrapolation(True)\n",
        "    uEuclidnorm = project(sqrt(inner(u, u)), QQ)\n",
        "    ax.cla()\n",
        "    fig = plt.gcf()\n",
        "    fig.set_size_inches(16, 4)\n",
        "    plt.subplot(1, 2, 1)\n",
        "    pp = plot(uEuclidnorm, cmap=\"coolwarm\")\n",
        "    plt.title(\"%s at t=%f\" % (soltit, t)) # Plot norm of solution\n",
        "    if t == 0:\n",
        "      plt.axis(G)\n",
        "      plt.colorbar(pp, shrink=0.5)\n",
        "    plt.subplot(1, 2, 2);\n",
        "    if t == 0:\n",
        "      plot(QQ.mesh())\n",
        "      plt.title(\"Mesh\") # Plot mesh\n",
        "    plt.tight_layout(); dpl = display(pl, display_id=\"test\");\n",
        "  \n",
        "  return (pl, ax)\n",
        "\n",
        "def plot_compact_static(u, QQ, label = \"Velocity\"): # Compact plot utility function\n",
        "  pl, ax = plt.subplots();\n",
        "  uEuclidnorm = project(sqrt(inner(u, u)), QQ); ax.cla(); fig = plt.gcf(); fig.set_size_inches(16, 4)\n",
        "  plt.subplot(1, 2, 1); pp = plot(uEuclidnorm, cmap=\"coolwarm\"); plt.title(\"%s\" % (label)) # Plot norm of velocity\n",
        "  plt.axis(G); plt.colorbar(pp, shrink=0.5); \n",
        "  plt.subplot(1, 2, 2);\n",
        "  plot(QQ.mesh()); plt.title(\"Mesh\") # Plot mesh\n",
        "  plt.tight_layout(); dpl = display(pl, display_id=\"test\");\n",
        "  \n",
        "  return (pl, ax)\n",
        "\n"
      ],
      "execution_count": null,
      "outputs": []
    },
    {
      "cell_type": "code",
      "metadata": {
        "id": "Uaqb1njvqp_P",
        "colab_type": "code",
        "colab": {
          "base_uri": "https://localhost:8080/",
          "height": 146
        },
        "outputId": "8f0d28dc-1f13-40a6-934a-c88b7bd5abc0"
      },
      "source": [
        "xmax , xmin = 4 , 0 ; \n",
        "ymax , ymin = 1 , 0 ; \n",
        "G = [xmin , xmax , ymin , ymax] \n",
        "r = 0.2 \n",
        "xc = 0.5 ; yc = 0.5 \n",
        "\n",
        "mresolution = 100 \n",
        "\n",
        "domain = Rectangle(Point(G[0],G[2]),Point(G[1],G[3])) - Circle(Point(xc,yc),r)\n",
        "mesh = generate_mesh(domain,mresolution)\n",
        "\n",
        "V = FunctionSpace(mesh,\"CG\",1) \n",
        "di = V.dim \n",
        "x = V.tabulate_dof_coordinates() \n",
        "x\n",
        "# Mark boundary on the mesh\n",
        "\n",
        "#eps = 1e-5 \n",
        "##mk = Expression(\"(((x[0]-xc)*(x[0]-xc))+((x[1]-yc)*(x[1]-yc))) < (r*r) + eps   ? 1. : 0.\",xc=xc,yc=yc,r=r, eps=eps, domain=mesh, degree=3)\n",
        "# Compute Integral\n",
        "#l = assemble(mk*ds)\n",
        "#print(l) \n",
        "\n",
        "#one = Expression(\"1.0\",domain=mesh,degree=3)\n",
        "#A = assemble(one*dx) \n",
        "#print(A)\n",
        "#plot(mesh,title=\"Mesh\")"
      ],
      "execution_count": 60,
      "outputs": [
        {
          "output_type": "execute_result",
          "data": {
            "text/plain": [
              "array([[0.        , 0.859375  ],\n",
              "       [0.        , 0.84375   ],\n",
              "       [0.01922779, 0.8515625 ],\n",
              "       ...,\n",
              "       [4.        , 0.203125  ],\n",
              "       [4.        , 0.125     ],\n",
              "       [4.        , 0.09375   ]])"
            ]
          },
          "metadata": {
            "tags": []
          },
          "execution_count": 60
        }
      ]
    },
    {
      "cell_type": "code",
      "metadata": {
        "id": "bkgPrpYlre3b",
        "colab_type": "code",
        "colab": {
          "base_uri": "https://localhost:8080/",
          "height": 283
        },
        "outputId": "45368116-e738-463e-dc24-1ff837ea44bf"
      },
      "source": [
        "from dolfin import * \n",
        "from math import *\n",
        "import numpy as np  \n",
        "import matplotlib.pyplot as plt \n",
        "a,b = 0,1 \n",
        "mresolution = 20 \n",
        "mesh = IntervalMesh(mresolution,a,b)\n",
        "\n",
        "p_order = 1 \n",
        "V = FunctionSpace(mesh,\"CG\",p_order)\n",
        "dim = V.dim() \n",
        "x = V.tabulate_dof_coordinates().reshape(dim)  \n",
        "indices = np.argsort(x) \n",
        "\n",
        "Eu = Function(V) \n",
        "Eua = np.array(Eu.vector())\n",
        "\n",
        "for j in indices:\n",
        "  Eua[j] = 1 + sin(10*x[j]) \n",
        "plt.plot(x[indices],Eua[indices],\"-s\")"
      ],
      "execution_count": 75,
      "outputs": [
        {
          "output_type": "execute_result",
          "data": {
            "text/plain": [
              "[<matplotlib.lines.Line2D at 0x7f49a5ae0e10>]"
            ]
          },
          "metadata": {
            "tags": []
          },
          "execution_count": 75
        },
        {
          "output_type": "display_data",
          "data": {
            "image/png": "[encoded data removed]",
            "text/plain": [
              "<Figure size 432x288 with 1 Axes>"
            ]
          },
          "metadata": {
            "tags": [],
            "needs_background": "light"
          }
        }
      ]
    },
    {
      "cell_type": "code",
      "metadata": {
        "id": "NMqKw0_W37Ur",
        "colab_type": "code",
        "colab": {
          "base_uri": "https://localhost:8080/",
          "height": 35
        },
        "outputId": "bf4d7f74-9e14-4973-91d7-ae48171328c0"
      },
      "source": [
        "from dolfin import *\n",
        "from math import *\n",
        "import numpy as np\n",
        "\n",
        "# Define domain and mesh\n",
        "a, b = 0, 1\n",
        "mresolution = 900\n",
        "mesh = IntervalMesh(mresolution, a, b)\n",
        "\n",
        "# Define finite element function space\n",
        "p_order = 1;\n",
        "V = FunctionSpace(mesh, \"CG\", p_order)\n",
        "\n",
        "# Extract vertices of the mesh \n",
        "x = V.tabulate_dof_coordinates() \n",
        "indices = np.argsort(x)\n",
        "\n",
        "# Express the analytical function\n",
        "u = Expression(\"1 + x[0]*sin(10*x[0])\", degree=5)\n",
        "\n",
        "# Interpolate u onto V and extract the values in the mesh nodes\n",
        "Iu = interpolate(u, V)\n",
        "\n",
        "# Project u onto V\n",
        "Pu = project(u, V)\n",
        "u0 = Pu\n",
        "integral = assemble(u0*dx(mesh))\n",
        "print(integral)"
      ],
      "execution_count": 96,
      "outputs": [
        {
          "output_type": "stream",
          "text": [
            "1.0784669417987498\n"
          ],
          "name": "stdout"
        }
      ]
    },
    {
      "cell_type": "code",
      "metadata": {
        "id": "VcFQdhEcKk8u",
        "colab_type": "code",
        "colab": {}
      },
      "source": [
        ""
      ],
      "execution_count": null,
      "outputs": []
    }
  ]
}